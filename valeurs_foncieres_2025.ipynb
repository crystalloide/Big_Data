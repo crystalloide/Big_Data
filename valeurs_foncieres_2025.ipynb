{
  "nbformat": 4,
  "nbformat_minor": 0,
  "metadata": {
    "colab": {
      "provenance": [],
      "collapsed_sections": [
        "tIIctSAeiX78"
      ],
      "include_colab_link": true
    },
    "kernelspec": {
      "name": "python3",
      "display_name": "Python 3"
    }
  },
  "cells": [
    {
      "cell_type": "markdown",
      "metadata": {
        "id": "view-in-github",
        "colab_type": "text"
      },
      "source": [
        "<a href=\"https://colab.research.google.com/github/crystalloide/Big_Data/blob/master/valeurs_foncieres_2025.ipynb\" target=\"_parent\"><img src=\"https://colab.research.google.com/assets/colab-badge.svg\" alt=\"Open In Colab\"/></a>"
      ]
    },
    {
      "cell_type": "markdown",
      "metadata": {
        "id": "BglqmYxEqdko"
      },
      "source": [
        "#Analyse des valeurs foncières"
      ]
    },
    {
      "cell_type": "markdown",
      "metadata": {
        "id": "J5mxzoupqoqD"
      },
      "source": [
        "Dans sa démarche d'open data, le gouvernement propose un site présentant les données de transactions immobilières enregistrées par les notaires.\n",
        "\n",
        "Nous allons explorer quelques unes de ces données dans ce notebook, en essayant de combiner une partie de modélisation / ML sur le prix au m², et des outils interactifs de visualisations des transactions, avec le plan suivant:\n",
        "\n",
        "[1- Téléchargement et analyse des données](#p1)\n",
        "\n",
        "[2- Géocodage\n",
        "](#p2)\n",
        "\n",
        "[3- Analyse des données avec feature géographiques](#p3)\n",
        "\n",
        "[4- Modélisation](#p4)\n",
        "\n",
        "Le code complet est disponible sur le github https://github.com/crystalloide/Big_Data\n",
        "\n"
      ]
    },
    {
      "cell_type": "code",
      "source": [
        "!pip3 install pyproj bokeh>=3.0.0\n",
        "import os\n",
        "import math\n",
        "import requests\n",
        "import json\n",
        "import numpy as np\n",
        "import pandas as pd\n",
        "import matplotlib.pyplot as plt\n",
        "\n",
        "from pyproj import Proj\n",
        "from bokeh.models import BoxZoomTool\n",
        "from bokeh.plotting import figure, output_notebook, show\n",
        "from bokeh.models import ColumnDataSource, HoverTool\n",
        "\n",
        "# Approche moderne pour Bokeh 3.0+ évitant les avertissements d'obsolescence\n",
        "# Inutile d'importer directement CARTODBPOSITRON : on utilise add_tile avec le nom du provider.\n",
        "\n",
        "from sklearn.svm import SVR\n",
        "from sklearn.preprocessing import StandardScaler\n",
        "from scipy.interpolate import griddata\n",
        "\n",
        "# output_notebook()"
      ],
      "metadata": {
        "id": "GgTcxJQHoQI8"
      },
      "execution_count": null,
      "outputs": []
    },
    {
      "cell_type": "code",
      "metadata": {
        "id": "46o0U1klHkfN"
      },
      "source": [
        "###data cleansing\n",
        "def show_cols(df):\n",
        "  \"\"\" show summary of a dataframe \"\"\"\n",
        "  print(\" Colonnes dans le fichier :\\n \" + \"-\"*20 + \"\\n\" +  \"\\n\".join([\"{:2d} || {:30s} : {} \".format(k,n,t) for k,(n,t) in enumerate(zip(df.columns,df.dtypes))]))\n",
        "  print (\"-\"*20)\n",
        "  print(\" Nombres de transaction enregistrées : \\n \" + \"-\"*20 + \"\\n{}\".format(len(df)))\n",
        "\n",
        "def process_string(s):\n",
        "  \"\"\" Changer la virgule en point pour les problèmes de convention flottante française\n",
        "  \"\"\"\n",
        "  if isinstance(s, str):\n",
        "    return float(s.replace(',', '.'))\n",
        "  else:\n",
        "    return s\n",
        "\n",
        "def clean_str_nan(s):\n",
        "  \"\"\" supprimer les valeurs flottantes et les colonnes de type chaîne avec aucune donnée(\"nan\")\n",
        "  \"\"\"\n",
        "  if isinstance(s, float) and np.isnan(s):\n",
        "      return \"\"\n",
        "  return s\n",
        "\n",
        "\n",
        "def remove_out(d, nsigma=2):\n",
        "  \"\"\" Suppressions des valeurs aberrantes d'une distribution\n",
        "  input:\n",
        "    d (pd.DataFrame) : Dataframe\n",
        "    nsigma (int) : number of std deviation to allow around median\n",
        "\n",
        "  output:\n",
        "    df (pd.DataFrame): filtered Dataframe\n",
        "    selec (bool) : boolean list such as df = d[selec]\n",
        "\n",
        "  \"\"\"\n",
        "  m = d.median()\n",
        "  s = np.abs(d-m).median()\n",
        "  selec = (d<=(m+nsigma*s)) & (d>=(m-nsigma*s))\n",
        "  return d[selec], selec\n",
        "\n",
        "  ##Geocoding\n",
        "def line_to_location_string(serie):\n",
        "  \"\"\" Combine les différents champs du dataframe en une adresse cohérente\n",
        "  \"\"\"\n",
        "  number = serie[\"No voie\"]\n",
        "  if number.is_integer():\n",
        "    number = str(int(number))\n",
        "  else:\n",
        "    number = \"\"\n",
        "  return \", \".join([\"France\", \\\n",
        "      serie[\"Commune\"], \\\n",
        "      (\"%05i\" % (serie[\"Code postal\"],)), \\\n",
        "        \" \".join([ number, serie[\"Type de voie\"], serie[\"Voie\"]])])\n",
        "\n",
        "def get_all_location_string(df):\n",
        "  \"\"\" Renvoie les adresses uniques dans le dataframe\n",
        "  \"\"\"\n",
        "  location = df.apply(line_to_location_string, axis=1)\n",
        "  return location.unique()\n",
        "\n",
        "# Création d'un affichage :\n",
        "def create_map_plot(data):\n",
        "  # Créer une nouvelle figure avec une projection de Mercator (requis pour les cartes)\n",
        "  p = figure(\n",
        "      x_axis_type=\"mercator\",\n",
        "      y_axis_type=\"mercator\",\n",
        "      active_scroll=\"wheel_zoom\"\n",
        "  )\n",
        "\n",
        "  # Source de la tuile - pas besoin d'importer CARTODBPOSITRON au préalable\n",
        "  p.add_tile(\"CARTODBPOSITRON\")\n",
        "\n",
        "  # Reste du code pour le tracé ici, si besoin\n",
        "  return p\n",
        "\n"
      ],
      "execution_count": null,
      "outputs": []
    },
    {
      "cell_type": "markdown",
      "metadata": {
        "id": "g1EzrxdM392h"
      },
      "source": [
        "### Liste des Liens vers les fichiers disponibles :\n",
        "\n",
        "#### Source https://www.data.gouv.fr/fr/datasets/demandes-de-valeurs-foncieres/\n",
        "![image.png](data:image/png;base64,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)\n",
        "\n",
        "#### Dataset year='2024' size='61 Mo'\n",
        "\n",
        "####Identifiant= '5ffa8553-0e8f-4622-add9-5c0b593ca1f8'\n",
        "\n",
        "URL stable : 'https://www.data.gouv.fr/fr/datasets/r/5ffa8553-0e8f-4622-add9-5c0b593ca1f8'\n",
        "\n",
        "link='https://www.data.gouv.fr/fr/datasets/r/5ffa8553-0e8f-4622-add9-5c0b593ca1f8'\n",
        "\n",
        "\n",
        "Dataset year='2023' size='68 Mo'\n",
        "\n",
        "Identifiant ='bc213c7c-c4d4-4385-bf1f-719573d39e90'\n",
        "\n",
        "URL stable ='https://www.data.gouv.fr/fr/datasets/r/bc213c7c-c4d4-4385-bf1f-719573d39e90'\n",
        "\n",
        "link='https://www.data.gouv.fr/fr/datasets/r/bc213c7c-c4d4-4385-bf1f-719573d39e90'\n",
        "\n",
        "\n",
        "Dataset year='2019' size='130 Mo'\n",
        "link='https://www.data.gouv.fr/fr/datasets/r/3004168d-bec4-44d9-a781-ef16f41856a2'\n",
        "\n",
        "Dataset year='2018' size='297 Mo'\n",
        "link='https://www.data.gouv.fr/fr/datasets/r/1be77ca5-dc1b-4e50-af2b-0240147e0346'\n",
        "\n",
        "Dataset year='2017' size='428 Mo'\n",
        "link='https://www.data.gouv.fr/fr/datasets/r/7161c9f2-3d91-4caf-afa2-cfe535807f04'\n",
        "\n",
        "Dataset year='2016' size='373 Mo'\n",
        "link='https://www.data.gouv.fr/fr/datasets/r/0ab442c5-57d1-4139-92c2-19672336401c'"
      ]
    },
    {
      "cell_type": "markdown",
      "metadata": {
        "id": "eF7NjhlA0pjZ"
      },
      "source": [
        "## 1 - Téléchargement et analyse"
      ]
    },
    {
      "cell_type": "code",
      "metadata": {
        "id": "pCKSoLB7whku"
      },
      "source": [
        "!rm valeursfoncieres-2024.txt.zip\n",
        "!rm ValeursFoncieres-2024.txt\n",
        "!wget 'https://static.data.gouv.fr/resources/demandes-de-valeurs-foncieres/20250406-003043/valeursfoncieres-2024.txt.zip'\n",
        "!unzip valeursfoncieres-2024.txt.zip\n",
        "!ls\n",
        "fname = 'ValeursFoncieres-2024.txt'\n",
        "\n",
        "# fid = open(fname, 'r', encoding='utf-8') # Open the file with 'utf-8' encodi\n",
        "fid = open(fname, 'r')\n",
        "df=pd.read_csv(fname, sep='|', low_memory=False)\n",
        "fid.close()"
      ],
      "execution_count": null,
      "outputs": []
    },
    {
      "cell_type": "markdown",
      "metadata": {
        "id": "8MyUqpwM0zhj"
      },
      "source": [
        "###a- Filtrage\n"
      ]
    },
    {
      "cell_type": "code",
      "source": [
        "show_cols(df)"
      ],
      "metadata": {
        "id": "tWp1qbxCfFOK"
      },
      "execution_count": null,
      "outputs": []
    },
    {
      "cell_type": "code",
      "source": [
        "print(df.columns)"
      ],
      "metadata": {
        "id": "RwnpQqBSdBFd"
      },
      "execution_count": null,
      "outputs": []
    },
    {
      "cell_type": "markdown",
      "metadata": {
        "id": "mXAwZTNYMHIM"
      },
      "source": [
        "Il convient d'abord de faire un tri parmi les colonnes, en ne gardant que celles d'intérêt à notre étude dans un premier temps, et en reformatant les contenus pour des types plus homogènes"
      ]
    },
    {
      "cell_type": "code",
      "metadata": {
        "id": "c-9Hb38CCazx"
      },
      "source": [
        "# Reformatage des colonnes qui devraient être des nombres flottants\n",
        "key_to_proc = (\"Valeur fonciere\", \"Surface reelle bati\", \"Code postal\")\n",
        "df = df.assign(**{key: df[key].apply(process_string) for key in key_to_proc})\n",
        "\n",
        "# Renommage des colonnes\n",
        "df = df.rename(columns={\"Surface reelle bati\": \"surface\", \"Valeur fonciere\": \"prix\"})\n",
        "\n",
        "# Traitement du code postal\n",
        "df = df.assign(\n",
        "    **{\"Code postal\": df[\"Code postal\"].fillna(-9999).astype(int)}\n",
        ")\n",
        "\n",
        "# Reformatage des colonnes qui devraient être des chaînes\n",
        "df = df.assign(\n",
        "    **{\n",
        "        \"Type de voie\": df[\"Type de voie\"].apply(clean_str_nan),\n",
        "        \"Voie\": df[\"Voie\"].apply(clean_str_nan)\n",
        "    }\n",
        ")\n",
        "\n",
        "# Sélection des colonnes d'intérêt\n",
        "keys_of_interest = [\"surface\", \"prix\", \"Type de voie\", \"Voie\", \"Code postal\", \"Type local\", \"Code departement\", \"Commune\", \"No voie\"]\n",
        "df = df[keys_of_interest]\n",
        "\n",
        "# Suppression des lignes avec valeurs manquantes\n",
        "keys_of_no_na = [\"surface\", \"prix\"]\n",
        "df = df.dropna(subset=keys_of_no_na)\n",
        "\n",
        "# Suppression des lignes avec surface nulle ou négative\n",
        "df = df[df[\"surface\"] > 0]\n",
        "\n",
        "# Ajout de la colonne ratio\n",
        "df = df.assign(**{\"prix au m2\": df[\"prix\"] / df[\"surface\"]})\n",
        "\n",
        "# Affichage des colonnes\n",
        "show_cols(df)\n",
        "print(df.head(10))"
      ],
      "execution_count": null,
      "outputs": []
    },
    {
      "cell_type": "markdown",
      "metadata": {
        "id": "3VxL1W4zh27K"
      },
      "source": [
        "Pour le moment, on sélectionne seulement les appartements parisiens"
      ]
    },
    {
      "cell_type": "code",
      "metadata": {
        "id": "8PG7vMnFOr6g"
      },
      "source": [
        "# Créer un filtre pour les appartements à Paris\n",
        "selec = (df[\"Type local\"] == \"Appartement\") & (df[\"Code departement\"] == \"75\")\n",
        "\n",
        "# remove_out() est une fonction personnalisée pour enlever les valeurs aberrantes\n",
        "# Appliquer cette fonction uniquement sur les données filtrées\n",
        "prix_paris, subselec_paris = remove_out(df.loc[selec, \"prix au m2\"])\n",
        "\n",
        "# Mettre à jour le filtre original en tenant compte des valeurs aberrantes supprimées\n",
        "# Créer un tableau booléen de même taille que le filtre original, initialisé à False\n",
        "filtre_final = pd.Series(False, index=selec.index)\n",
        "\n",
        "# Mettre à True les indices qui sont True dans selec et qui ne sont pas des valeurs aberrantes\n",
        "filtre_final.loc[selec] = subselec_paris\n",
        "\n",
        "# Créer le dataframe final\n",
        "paris_df = df.loc[filtre_final].copy()\n",
        "\n",
        "print(paris_df.head(10))\n",
        "\n",
        "# Sauvegarder en pickle\n",
        "paris_df.to_pickle(\"paris_dataframe.pkl\")\n",
        "paris_df.to_pickle(\"paris_df.pkl\")"
      ],
      "execution_count": null,
      "outputs": []
    },
    {
      "cell_type": "markdown",
      "metadata": {
        "id": "tIIctSAeiX78"
      },
      "source": [
        "### a- bis Chargement d'un pickle existant (optionnel)\n"
      ]
    },
    {
      "cell_type": "code",
      "metadata": {
        "id": "llD1We0tjqy5"
      },
      "source": [
        "import pickle\n",
        "file_id = '1UsUscZVphFb6gqLDvaNL8BWcIg6jqFrf'\n",
        "fn = \"paris_dataframe.pkl\"\n",
        "\n",
        "# Construct the direct download link\n",
        "download_link = f'https://drive.google.com/uc?export=download&id={file_id}'\n",
        "\n",
        "!wget \"{download_link}\" -O \"{fn}\"\n",
        "\n",
        "try:\n",
        "  with open(fn, 'rb') as file:\n",
        "    paris_df = pickle.load(file)\n",
        "  print(\"{name} loaded correctly as {type}\".format(name=fn, type=type(paris_df)))\n",
        "except Exception as exc:\n",
        "  print(\"failed to load {} (not a pickle ?)\".format(fn))\n",
        "  raise exc\n",
        "print(paris_df.head(10))"
      ],
      "execution_count": null,
      "outputs": []
    },
    {
      "cell_type": "markdown",
      "metadata": {
        "id": "HZ-K9AK0k8Ja"
      },
      "source": [
        "### b- Analyse"
      ]
    },
    {
      "cell_type": "markdown",
      "metadata": {
        "id": "I5OGvklolZxT"
      },
      "source": [
        "On a à présent un subset des prix des appartements parisiens les plus représentatifs.\n",
        "\n",
        "On peut commencer par regarder la répartition des prix, à l'échelle de la ville :"
      ]
    },
    {
      "cell_type": "code",
      "metadata": {
        "id": "TCD1wflfJgYI"
      },
      "source": [
        "print(\"Histogramme des prix au m²\")\n",
        "_ = paris_df.hist(column=\"prix au m2\")"
      ],
      "execution_count": null,
      "outputs": []
    },
    {
      "cell_type": "markdown",
      "metadata": {
        "id": "bkoyk-Ccpxdl"
      },
      "source": [
        "Et des arrondissements :"
      ]
    },
    {
      "cell_type": "code",
      "metadata": {
        "id": "y3MTbExjKfjH"
      },
      "source": [
        "paris_df.groupby([\"Code postal\"])[[\"prix au m2\"]].agg([\"mean\"]).plot()\n",
        "_= paris_df.hist(column=\"prix au m2\", by=[\"Code postal\"], figsize=(10,15))"
      ],
      "execution_count": null,
      "outputs": []
    },
    {
      "cell_type": "markdown",
      "metadata": {
        "id": "g9scn6Wwqsy_"
      },
      "source": [
        "Outre la variation des prix par arrondissement, qui colle bien avec le marché immobilier, on remarque deux choses :\n",
        "\n",
        "1.   la répartition des prix dans chaque arrondissement semble bien normalement distribuée\n",
        "2.   on manque de données pour le 1e et 2e arrondissement\n",
        "\n",
        "Regardons pour finir le classement des arrondissements du plus onéreux au moins cher :\n",
        "\n"
      ]
    },
    {
      "cell_type": "code",
      "metadata": {
        "id": "86vlnMkrK5s0"
      },
      "source": [
        "#print(paris_df.groupby([\"Code postal\"])[[\"prix au m2\"]].agg([\"count\"]))\n",
        "print(\"Classement des arrondissements par prix au m²:\")\n",
        "print(paris_df.groupby([\"Code postal\"])[[\"prix au m2\"]].agg([\"mean\"]).sort_values(by=(\"prix au m2\", \"mean\"), ascending=False))"
      ],
      "execution_count": null,
      "outputs": []
    },
    {
      "cell_type": "markdown",
      "metadata": {
        "id": "61HVQFZiwUjC"
      },
      "source": [
        "<a id='p2'> </a>"
      ]
    },
    {
      "cell_type": "markdown",
      "metadata": {
        "id": "MT3hegYZvhya"
      },
      "source": [
        "##2- Géocoding\n",
        "\n",
        "#### Pour commencer des modélisations allant au delà des attributs statistiques standards,\n",
        "#### il est nécessaire d'enrichir les données pour leur ajouter une composante spatiale exploitable.\n",
        "\n",
        "#### On s'appuie ici sur l'API Mapquest pour transformer les adresses en coordonnées UTM.\n",
        "\n",
        "#### Comme précédemment, on peut passer cette étape en uploadant directement le résultat s'il est disponible"
      ]
    },
    {
      "cell_type": "code",
      "metadata": {
        "id": "5rICcKrsW0-0"
      },
      "source": [
        "all_loc = get_all_location_string(paris_df)"
      ],
      "execution_count": null,
      "outputs": []
    },
    {
      "cell_type": "markdown",
      "metadata": {
        "id": "p7wq6FfoywL1"
      },
      "source": [
        "### Complément des informations avec les données MapQuest (passer si upload possible)\n",
        "Requête des données sur MapQuest"
      ]
    },
    {
      "cell_type": "markdown",
      "source": [
        "#### Comment obtenir une clé API pour MapQuest Geocoding (payant)\n",
        "\n",
        "#### Étapes à suivre :\n",
        "\n",
        "Rendez-vous sur le site des développeurs MapQuest à l’adresse suivante : https://developer.mapquest.com/documentation.\n",
        "\n",
        "Créez un compte MapQuest si vous n’en possédez pas déjà un. L’inscription est gratuite.\n",
        "\n",
        "Une fois inscrit et connecté, une clé API vous sera automatiquement fournie. Cette clé est nécessaire pour accéder aux services MapQuest, y compris l’API de géocodage.\n",
        "\n",
        "Utilisez cette clé API dans vos requêtes vers l’API de géocodage MapQuest.\n",
        "\n",
        "Si vous utilisez déjà une clé pour les cartes de base MapQuest, elle fonctionne également pour la géocodification.\n",
        "\n"
      ],
      "metadata": {
        "id": "gjKi19tPhOkU"
      }
    },
    {
      "cell_type": "code",
      "source": [
        "# Test de la clé API :\n",
        "key = input(\"input API key: \\n\")\n",
        "#key = \"xxxxxxxxxxxxxxxxxxxxxxxxxxxxxxxxxxx\"\n",
        "#print (key)\n",
        "!curl -I \"https://www.mapquestapi.com/geocoding/v1/batch?key={key}&location=Paris&location=Lyon\"\n"
      ],
      "metadata": {
        "id": "I0KnITTNr6IM"
      },
      "execution_count": null,
      "outputs": []
    },
    {
      "cell_type": "code",
      "metadata": {
        "id": "rrzEs4Ms2nfd"
      },
      "source": [
        "import os\n",
        "import math\n",
        "import requests\n",
        "import json\n",
        "import numpy as np\n",
        "import pandas as pd\n",
        "import matplotlib.pyplot as plt\n",
        "\n",
        "if not os.path.exists(\"batches\"):\n",
        "  os.mkdir(\"batches\")\n",
        "\n",
        "# key = \"xxxxxxxxxxxxxxxxxxxxxxxxxxxxxxxxx\"\n",
        "key = input(\"input API key: \\n\")\n",
        "#print (key)\n",
        "url = \"https://www.mapquestapi.com/geocoding/v1/batch?key=\"\n",
        "url = url+key\n",
        "#print (url)\n",
        "\n",
        "def submit_data(locations):\n",
        "    \"\"\" Use mapquest api to request GPS coordinates from the address\n",
        "    \"\"\"\n",
        "    print (\"submit_data\")\n",
        "    dico = {\"maxResults\":1, \"location\":locations, \"key\":key}\n",
        "    #dico = {\"maxResults\":1, \"location\":locations}\n",
        "\n",
        "    req = requests.get(url, params=dico)\n",
        "    return json.loads(req.text)['results']\n",
        "    # Check if the request was successful\n",
        "\n",
        "\n",
        "def batch_maker(loc_list, batch_size=100):\n",
        "  \"\"\" generate batches of batch_size adresses to feed the batch API\n",
        "  \"\"\"\n",
        "  print (\"batch_maker\")\n",
        "  n_batch = int(math.ceil(len(loc_list) / batch_size))\n",
        "  for k_batch in range(n_batch):\n",
        "    yield loc_list[k_batch*batch_size:min((k_batch+1)*batch_size, len(loc_list))]\n",
        "\n",
        "  for kb, batch in enumerate(batch_maker(all_loc)):\n",
        "      gps_loc = submit_data(batch)\n",
        "    # If submit_data encountered an error, skip this batch\n",
        "      if gps_loc is None:\n",
        "          print(f\"Skipping batch {kb} due to error.\")\n",
        "          continue\n",
        "\n",
        "  latlong = [ a[\"locations\"][0][\"latLng\"] for a in gps_loc]\n",
        "  batch_lat = [a[\"lat\"] for a in latlong]\n",
        "  batch_long = [a[\"lng\"] for a in latlong]\n",
        "  batch_df=pd.DataFrame({\"location\":batch, \"lat\":batch_lat, \"long\":batch_long})\n",
        "  batch_df.to_pickle(\"batches/batch_{}.pkl\".format(kb))\n",
        "\n",
        "blist = os.listdir(\"batches\")\n",
        "all_df = None\n",
        "for bfile in blist:\n",
        "  batch_df = pd.read_pickle(\"batches/\"+bfile)\n",
        "  if all_df is None:\n",
        "    all_df = batch_df\n",
        "  else:\n",
        "    all_df = pd.concat((all_df, batch_df), ignore_index=True)\n",
        "all_df.to_pickle(\"paris_unique_locations_df.pkl\")\n",
        "print(all_df.head(10))"
      ],
      "execution_count": null,
      "outputs": []
    },
    {
      "cell_type": "markdown",
      "metadata": {
        "id": "wosWWzRz3B3L"
      },
      "source": [
        "### Upload (optionnel : à faire si vous n'avez pas de clé API)"
      ]
    },
    {
      "cell_type": "code",
      "metadata": {
        "id": "ee3EDqvd4kAq"
      },
      "source": [
        "import pickle\n",
        "file_id = '12JKAsMBeAsdQsmPYhKv2ikcRx6P9ME66'\n",
        "fn = \"paris_unique_locations_df.pikl\"\n",
        "\n",
        "# Construct the direct download link\n",
        "download_link = f'https://drive.google.com/uc?export=download&id={file_id}'\n",
        "\n",
        "!wget \"{download_link}\" -O \"{fn}\"\n",
        "\n",
        "try:\n",
        "  with open(fn, 'rb') as file:\n",
        "    all_df = pickle.load(file)\n",
        "  print(\"{name} loaded correctly as {type}\".format(name=fn, type=type(all_df)))\n",
        "except Exception as exc:\n",
        "  print(\"failed to load {} (not a pickle ?)\".format(fn))\n",
        "  raise exc\n",
        "print(all_df.head(10))"
      ],
      "execution_count": null,
      "outputs": []
    },
    {
      "cell_type": "markdown",
      "metadata": {
        "id": "Uj_xjYcWwaoj"
      },
      "source": [
        "<a id='p3'> </a>"
      ]
    },
    {
      "cell_type": "markdown",
      "metadata": {
        "id": "VZJiIFru4SLU"
      },
      "source": [
        "### Visualisation\n",
        "\n",
        "\n",
        "Pour la visualisation, on commence par projeter les lat/long en UTM WebM, puis on fusionne les adresses et les coordonnées géograpgiques"
      ]
    },
    {
      "cell_type": "code",
      "source": [
        "!pip install contextily\n",
        "!pip install cartopy"
      ],
      "metadata": {
        "id": "Y8qKdXQIBwnr"
      },
      "execution_count": null,
      "outputs": []
    },
    {
      "cell_type": "code",
      "metadata": {
        "id": "UnB2tErSEhGm"
      },
      "source": [
        "import contextily as ctx\n",
        "\n",
        "#projection web mercator\n",
        "projo = Proj('epsg:3857') # initialization\n",
        "selec = remove_out(all_df[\"long\"], nsigma=10)[1] * remove_out(all_df[\"lat\"], nsigma=10)[1]\n",
        "x, y = projo(all_df[\"long\"][selec].values, all_df[\"lat\"][selec].values)\n",
        "lo, la = all_df[\"long\"][selec].values, all_df[\"lat\"][selec].values\n",
        "\n",
        "# Create the scatter plot\n",
        "fig, ax = plt.subplots(figsize=(35, 20))  # Adjust figure size as needed\n",
        "ax.scatter(x, y, s=40)  # Adjust marker size as needed\n",
        "\n",
        "# Add basemap\n",
        "ctx.add_basemap(ax, crs='epsg:3857')\n",
        "\n",
        "plt.show()"
      ],
      "execution_count": null,
      "outputs": []
    },
    {
      "cell_type": "code",
      "metadata": {
        "id": "FgoxxYlK6hdc"
      },
      "source": [
        "import contextily as ctx\n",
        "\n",
        "\n",
        "#projection web mercator\n",
        "projo = Proj('epsg:3857') # Corrected initialization\n",
        "selec = remove_out(all_df[\"long\"], nsigma=10)[1] * remove_out(all_df[\"lat\"], nsigma=10)[1]\n",
        "x, y = projo(all_df[\"long\"][selec].values, all_df[\"lat\"][selec].values)\n",
        "lo, la = all_df[\"long\"][selec].values, all_df[\"lat\"][selec].values\n",
        "\n",
        "# Create the scatter plot\n",
        "fig, ax = plt.subplots(figsize=(20, 10))  # Adjust figure size as needed\n",
        "ax.scatter(x, y, s=20)  # Adjust marker size as needed\n",
        "\n",
        "# Add basemap\n",
        "ctx.add_basemap(ax, crs='epsg:3857')\n",
        "\n",
        "plt.show()"
      ],
      "execution_count": null,
      "outputs": []
    },
    {
      "cell_type": "markdown",
      "metadata": {
        "id": "Vsyt4irdQbrt"
      },
      "source": [
        "On a bien quelque chose qui ressemble à Paris.\n",
        "On intègre maintenant ces coordonnées à la base de valeurs immobilières:"
      ]
    },
    {
      "cell_type": "code",
      "source": [
        "display(paris_df.sample(10))"
      ],
      "metadata": {
        "id": "oamp1lKmnnQp"
      },
      "execution_count": null,
      "outputs": []
    },
    {
      "cell_type": "code",
      "metadata": {
        "id": "QucT4ysPQ7A2"
      },
      "source": [
        "paris_df[\"location\"] = paris_df.apply(line_to_location_string, axis=1)\n",
        "all_df = all_df[selec]\n",
        "all_df[\"X\"] = x\n",
        "all_df[\"Y\"] = y\n",
        "\n",
        "paris_df = pd.merge(paris_df, all_df,  on=\"location\", how=\"inner\")\n"
      ],
      "execution_count": null,
      "outputs": []
    },
    {
      "cell_type": "code",
      "source": [
        "display(paris_df.sample(10))"
      ],
      "metadata": {
        "id": "CCvnfX6In45I"
      },
      "execution_count": null,
      "outputs": []
    },
    {
      "cell_type": "markdown",
      "source": [
        "Les données sont prêtes !"
      ],
      "metadata": {
        "id": "AqVJlJuR3kSN"
      }
    },
    {
      "cell_type": "code",
      "source": [
        "x, y, p = paris_df[\"X\"].values, paris_df[\"Y\"].values, paris_df[\"prix au m2\"].values\n",
        "selec = (x>0) * (y>0)\n",
        "x = x[selec]\n",
        "y = y[selec]\n",
        "p = p[selec]\n",
        "\n",
        "x_range, y_range = ((min(x),max(x)), (min(y),max(y)))\n",
        "\n",
        "### Plotting\n",
        "plot_width  = int(750)\n",
        "plot_height = int(plot_width//1.2)\n",
        "\n",
        "def base_plot(tools='pan,wheel_zoom,reset',plot_width=plot_width, plot_height=plot_height, **plot_args):\n",
        "  \"\"\" setup a bokeh plot\n",
        "  \"\"\"\n",
        "  p = figure(tools=tools, width=plot_width, height=plot_height,\n",
        "      x_range=x_range, y_range=y_range, outline_line_color=None,\n",
        "      min_border=0, min_border_left=0, min_border_right=0,\n",
        "      min_border_top=0, min_border_bottom=0, **plot_args)\n",
        "\n",
        "  p.axis.visible = False\n",
        "  p.xgrid.grid_line_color = None\n",
        "  p.ygrid.grid_line_color = None\n",
        "  p.add_tools(BoxZoomTool(match_aspect=True))\n",
        "  return p\n",
        "\n",
        "pl = base_plot()\n",
        "pl.add_tile(\"CARTODBPOSITRON\")\n",
        "subsamp=1\n",
        "source = ColumnDataSource(data={\n",
        "    'x' : x[::subsamp],\n",
        "    'y' : y[::subsamp],\n",
        "    'address':paris_df[\"location\"][selec][::subsamp],\n",
        "    'prix':paris_df[\"prix au m2\"][selec][::subsamp],\n",
        "    'surface':paris_df[\"surface\"][selec][::subsamp],\n",
        "    'color':[\n",
        "    \"#%02x%02x%02x\" % (int(p*255), int(p*255), int(p*255)) for p in (1-(p[::subsamp]-p.min())/(p.max()-p.min()))\n",
        "]\n",
        "})\n",
        "\n",
        "pl.circle(x=\"x\", y=\"y\", radius=50, fill_color=\"color\", line_color=\"Green\", source=source)\n",
        "\n",
        "pl.add_tools(HoverTool(\n",
        "    tooltips=[\n",
        "        ( 'address', '@address'      ),\n",
        "        ( 'prix', '@prix{i} € au m²'      ),\n",
        "        ('surface', '@surface m²')\n",
        "    ]))\n",
        "\n",
        "show(pl)"
      ],
      "metadata": {
        "id": "RleJ7-72aVt0"
      },
      "execution_count": null,
      "outputs": []
    },
    {
      "cell_type": "markdown",
      "metadata": {
        "id": "gxCsJmjKwsg2"
      },
      "source": [
        "<a id='p4'> </a>"
      ]
    },
    {
      "cell_type": "markdown",
      "metadata": {
        "id": "85hSxeVePsG7"
      },
      "source": [
        "### Modélisation\n"
      ]
    },
    {
      "cell_type": "markdown",
      "metadata": {
        "id": "ySmXpV0EPjuV"
      },
      "source": [
        "Pour modéliser les données, on utilise une régression par vecteur de support avec noyau gaussien.\n",
        "\n",
        "Le paramètre gamma nous permet de jouer sur le lissage géographique du modèle\n",
        "\n"
      ]
    },
    {
      "cell_type": "code",
      "metadata": {
        "id": "61gTwS9vb9Pz"
      },
      "source": [
        "scaler = StandardScaler()\n",
        "\n",
        "feature = scaler.fit_transform(np.array([x, y]).T)\n",
        "target = p\n",
        "\n",
        "clf = SVR(kernel='rbf', gamma=10, C=100\n",
        "          , epsilon=500, max_iter=-1)\n",
        "clf.fit(feature, target)\n"
      ],
      "execution_count": null,
      "outputs": []
    },
    {
      "cell_type": "markdown",
      "metadata": {
        "id": "WRSaF673VCvc"
      },
      "source": [
        "Voyons à quoi ressemble notre modèle :"
      ]
    },
    {
      "cell_type": "code",
      "metadata": {
        "id": "EAEhG_bqen9D"
      },
      "source": [
        "# nsamp = 400\n",
        "nsamp = 500\n",
        "x_reg = np.linspace(x.min(), x.max(), nsamp)\n",
        "y_reg = np.linspace(y.min(), y.max(), nsamp)\n",
        "xx, yy = np.meshgrid(x_reg, y_reg)\n",
        "pp = griddata((x,y), p, (xx,yy))\n",
        "\n",
        "pp = clf.predict(scaler.transform(np.array([np.ravel(xx), np.ravel(yy)]).T))\n",
        "pp.shape = (nsamp,nsamp)\n",
        "\n",
        "\n",
        "# Import necessary modules\n",
        "# from bokeh.plotting import figure, show\n",
        "# from bokeh.models import ColumnDataSource, HoverTool, BoxZoomTool\n",
        "# from bokeh.tile_providers import CARTODBPOSITRON # This module is no longer available in Bokeh 3+\n",
        "# from bokeh.models import WMTSTileSource\n",
        "# from bokeh.io import output_notebook, show\n",
        "\n",
        "#Instead of OpenStreetMap, we can use the built in CARTODBPOSITRON using the following URL:\n",
        "url = \"http://c.tile.openstreetmap.org/{Z}/{X}/{Y}.png\"\n",
        "#url = \"https://tiles.basemaps.cartocdn.com/rastertiles/voyager/{Z}/{X}/{Y}.png\"\n",
        "\n",
        "\n",
        "pl = base_plot()\n",
        "pl.add_tile(\"CARTODBPOSITRON\")\n",
        "pl.image(image=[pp], x=x.min(), y=y.min(),  dw=x.max()-x.min(), dh=y.max()-y.min(), global_alpha=0.3, palette=\"Spectral11\")\n",
        "pl.add_tools(HoverTool(\n",
        "    tooltips=[\n",
        "        ( 'prix', '@image{i} €'      ),\n",
        "    ]))\n",
        "show(pl)"
      ],
      "execution_count": null,
      "outputs": []
    },
    {
      "cell_type": "markdown",
      "metadata": {
        "id": "gI3gYuSVWMvX"
      },
      "source": [
        "### Visualisation interactive avec datashader\n",
        "\n",
        "(work in progress)"
      ]
    },
    {
      "cell_type": "code",
      "metadata": {
        "id": "w7PJYuZ3f8oQ"
      },
      "source": [
        "!pip3 install datashader"
      ],
      "execution_count": null,
      "outputs": []
    },
    {
      "cell_type": "code",
      "source": [
        "display(paris_df.head(10))"
      ],
      "metadata": {
        "id": "5Bqsgu36he9k"
      },
      "execution_count": null,
      "outputs": []
    },
    {
      "cell_type": "code",
      "source": [
        "import os\n",
        "os.environ[\"NUMBA_CUDA_DRIVER\"] = \"/usr/local/cuda/lib64/libcuda.so.1\"\n",
        "import numpy as np\n",
        "import datashader as ds\n",
        "import datashader.transfer_functions as tf\n",
        "from datashader.colors import colormap_select, Greys9\n",
        "from colorcet import fire, rainbow\n",
        "from bokeh.plotting import figure, show\n",
        "from bokeh.models import WMTSTileSource, HoverTool\n",
        "\n",
        "# Définition des plages de valeurs (à adapter selon tes données)\n",
        "x_range = (paris_df['X'].min(), paris_df['X'].max())\n",
        "y_range = (paris_df['Y'].min(), paris_df['Y'].max())\n",
        "\n",
        "cvs = ds.Canvas(plot_width=25, plot_height=25, x_range=x_range, y_range=y_range)\n",
        "agg = cvs.points(paris_df, 'X', 'Y', ds.mean('prix au m2'))\n",
        "\n",
        "if agg.coords[\"X\"].size > 0 and agg.coords[\"Y\"].size > 0:\n",
        "    xc = np.linspace(agg.coords[\"X\"].min().item(), agg.coords[\"X\"].max().item(), 1000)\n",
        "    yc = np.linspace(agg.coords[\"Y\"].min().item(), agg.coords[\"Y\"].max().item(), 1000)\n",
        "\n",
        "    aggi = agg.interp(dict(Y=yc, X=xc), method='linear')\n",
        "    imgi = tf.shade(aggi, cmap=rainbow)\n",
        "\n",
        "    # Création du graphique\n",
        "    pl = figure(title=\"Prix au m2 à Paris\", x_range=x_range, y_range=y_range)\n",
        "    url = \"http://c.tile.openstreetmap.org/{Z}/{X}/{Y}.png\"\n",
        "    #url = \"https://tiles.basemaps.cartocdn.com/rastertiles/voyager/{Z}/{X}/{Y}.png\"\n",
        "\n",
        "    pl.add_tile(WMTSTileSource(url=url))\n",
        "#    pl.add_tile(\"CARTODBPOSITRON\")\n",
        "\n",
        "    pl.image(image=[aggi.values], x=x_range[0], y=y_range[0], dw=x_range[1] - x_range[0], dh=y_range[1] - y_range[0], global_alpha=0.3,\n",
        "             palette=\"Spectral11\")  # Assure-toi que cette palette existe dans Bokeh\n",
        "\n",
        "    pl.add_tools(HoverTool(tooltips=[('Prix/m2', '@image{0.00} €')]))  # Format numérique ajusté\n",
        "\n",
        "    show(pl)\n",
        "else:\n",
        "    print(\"Aucun point de données trouvé dans la plage spécifiée.\")\n"
      ],
      "metadata": {
        "id": "KQll1IjkF5B2"
      },
      "execution_count": null,
      "outputs": []
    },
    {
      "cell_type": "code",
      "source": [
        "import datashader as ds\n",
        "import datashader.transfer_functions as tf\n",
        "from datashader.colors import colormap_select, Greys9\n",
        "from colorcet import fire, rainbow\n",
        "\n",
        "cvs = ds.Canvas(plot_width=25, plot_height=25, x_range=x_range, y_range=y_range)\n",
        "agg = cvs.points(paris_df, 'X', 'Y', ds.mean('prix au m2'))\n",
        "\n",
        "# Check if agg.coords[\"X\"] and agg.coords[\"Y\"] have data\n",
        "if agg.coords[\"X\"].size > 0 and agg.coords[\"Y\"].size > 0:\n",
        "    xc = np.linspace(agg.coords[\"X\"].min().item(), agg.coords[\"X\"].max().item(), 1000) # Get the scalar value\n",
        "    yc = np.linspace(agg.coords[\"Y\"].min().item(), agg.coords[\"Y\"].max().item(), 1000) # Get the scalar value\n",
        "    aggi = agg.interp(dict(Y=yc, X=xc), method='linear')\n",
        "    imgi = tf.shade(aggi, cmap=rainbow)\n",
        "\n",
        "    pl = base_plot()\n",
        "    # pl.add_tile(CARTODBPOSITRON) # Instead use add_tile with WMTSTileSource as CARTODBPOSITRON has been deprecated.\n",
        "    # Instead of OpenStreetMap, we can use the built in CARTODBPOSITRON using the following URL:\n",
        "    url = \"http://c.tile.openstreetmap.org/{Z}/{X}/{Y}.png\"\n",
        "    from bokeh.models import WMTSTileSource\n",
        "    pl.add_tile(WMTSTileSource(url=url)) # Use add_tile with WMTSTileSource and the URL\n",
        "    pl.image(image=[aggi.values], x=x.min(), y=y.min(), dw=x.max() - x.min(), dh=y.max() - y.min(), global_alpha=0.3,\n",
        "             palette=\"Spectral11\")\n",
        "    pl.add_tools(HoverTool(\n",
        "        tooltips=[\n",
        "            ('prix', '@image{i} €'),\n",
        "        ]))\n",
        "    show(pl)\n",
        "else:\n",
        "    print(\"No data points found within the specified x_range and y_range.\")"
      ],
      "metadata": {
        "id": "pdcbzs4a87Nl"
      },
      "execution_count": null,
      "outputs": []
    },
    {
      "cell_type": "code",
      "metadata": {
        "id": "WDrTQ_uhChDF"
      },
      "source": [
        "import os\n",
        "os.environ[\"NUMBA_CUDA_DRIVER\"] = \"/usr/local/cuda/lib64/libcuda.so.1\"\n",
        "\n",
        "import datashader as ds\n",
        "import datashader.transfer_functions as tf\n",
        "from datashader.colors import colormap_select, Greys9\n",
        "from colorcet import fire, rainbow\n",
        "import numpy as np\n",
        "\n",
        "from bokeh.plotting import figure, show\n",
        "from bokeh.models import WMTSTileSource, HoverTool\n",
        "\n",
        "\n",
        "# Define x_range and y_range based on your paris_df data\n",
        "x_range = (paris_df['X'].min(), paris_df['X'].max())\n",
        "y_range = (paris_df['Y'].min(), paris_df['Y'].max())\n",
        "\n",
        "cvs = ds.Canvas(plot_width=25, plot_height=25, x_range=x_range, y_range=y_range)\n",
        "agg = cvs.points(paris_df, 'X', 'Y', ds.mean('prix au m2'))\n",
        "\n",
        "# Check if agg.coords[\"X\"] and agg.coords[\"Y\"] have data\n",
        "if agg.coords[\"X\"].size > 0 and agg.coords[\"Y\"].size > 0:\n",
        "    # Get the scalar value using .item()\n",
        "    xc = np.linspace(agg.coords[\"X\"].min().item(), agg.coords[\"X\"].max().item(), 1000)\n",
        "    yc = np.linspace(agg.coords[\"Y\"].min().item(), agg.coords[\"Y\"].max().item(), 1000)\n",
        "    aggi = agg.interp(dict(Y=yc, X=xc), method='linear')\n",
        "    imgi = tf.shade(aggi, cmap=rainbow)\n",
        "\n",
        "    pl = figure(title=\"Prix au m2 à Paris\", x_range=x_range, y_range=y_range)  # Define pl here\n",
        "\n",
        "    url = \"https://c.tile.openstreetmap.org/{Z}/{X}/{Y}.png\"\n",
        "    pl.add_tile(WMTSTileSource(url=url))\n",
        "\n",
        "    pl.image(image=[aggi.values], x=x_range[0], y=y_range[0], dw=x_range[1] - x_range[0],\n",
        "             dh=y_range[1] - y_range[0], global_alpha=0.3, palette=\"Spectral11\")\n",
        "\n",
        "    pl.add_tools(HoverTool(tooltips=[('prix', '@image{0.00} €')]))\n",
        "\n",
        "    show(pl)\n",
        "else:\n",
        "    print(\"No data points found within the specified x_range and y_range.\")"
      ],
      "execution_count": null,
      "outputs": []
    }
  ]
}